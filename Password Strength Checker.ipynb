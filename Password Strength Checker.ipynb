{
 "cells": [
  {
   "cell_type": "code",
   "execution_count": null,
   "id": "c6d95bb0-934d-46b1-a238-4cf7b7fb6050",
   "metadata": {},
   "outputs": [],
   "source": [
    "# Password strength checker\n",
    "import re\n",
    "# password strength check conditions:\n",
    "# min 8 chars, digit, uppercase, lowercase, special chars\n",
    "\n",
    "def check_password_strength(password):\n",
    "    if len(password)<8:\n",
    "        return \"Weak: password must be at least 8 chars\"\n",
    "    if not any(char.isdigit() for char in password):\n",
    "        return \"Weak: password must contain a digit\"    \n",
    "    if not any(char.isupper() for char in password):\n",
    "        return \"Weak: password must contain one uppercase\"\n",
    "    if not any(char.islower() for char in password):\n",
    "        return \"Weak: password must contain one lowercase\"\n",
    "    if not re.search(r'[!\"#$%&()*+-./:;<=>?@\\^_`|,~]', password):\n",
    "        return \"Medium: password must contain a special character\"\n",
    "    return \"Strong: your password is secured!\"\n",
    "\n",
    "def password_checker():\n",
    "    name = input(\"Please Enter Your Name\")\n",
    "    print(f\"Thank You! {name} for using this tool\")\n",
    "while True:\n",
    "    password = input(\"Enter your password (or type'exit'to quit)\")\n",
    "\n",
    "    if password.lower() == 'exit':\n",
    "        break\n",
    "\n",
    "    result = check_password_strength(password)\n",
    "    print(result)\n",
    "\n",
    "\n",
    "\n",
    "#Run the password checker tol\n",
    "if __name__ == \"__main__\":\n",
    "    password_checker()"
   ]
  }
 ],
 "metadata": {
  "kernelspec": {
   "display_name": "Python 3 (ipykernel)",
   "language": "python",
   "name": "python3"
  },
  "language_info": {
   "codemirror_mode": {
    "name": "ipython",
    "version": 3
   },
   "file_extension": ".py",
   "mimetype": "text/x-python",
   "name": "python",
   "nbconvert_exporter": "python",
   "pygments_lexer": "ipython3",
   "version": "3.12.7"
  }
 },
 "nbformat": 4,
 "nbformat_minor": 5
}
